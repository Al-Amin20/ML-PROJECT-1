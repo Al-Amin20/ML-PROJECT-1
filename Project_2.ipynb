{
  "nbformat": 4,
  "nbformat_minor": 0,
  "metadata": {
    "colab": {
      "name": "Project_2.ipynb",
      "provenance": [],
      "collapsed_sections": [],
      "include_colab_link": true
    },
    "kernelspec": {
      "name": "python3",
      "display_name": "Python 3"
    },
    "language_info": {
      "name": "python"
    }
  },
  "cells": [
    {
      "cell_type": "markdown",
      "metadata": {
        "id": "view-in-github",
        "colab_type": "text"
      },
      "source": [
        "<a href=\"https://colab.research.google.com/github/Al-Amin20/ML-PROJECT-1/blob/main/Project_2.ipynb\" target=\"_parent\"><img src=\"https://colab.research.google.com/assets/colab-badge.svg\" alt=\"Open In Colab\"/></a>"
      ]
    },
    {
      "cell_type": "markdown",
      "source": [
        "# ETE-456  (Neural and Fuzzy systems in communications sessional)"
      ],
      "metadata": {
        "id": "2_b0F5XY6BS5"
      }
    },
    {
      "cell_type": "markdown",
      "source": [
        "## ID:1608020"
      ],
      "metadata": {
        "id": "1Z_f54Bb69ln"
      }
    },
    {
      "cell_type": "markdown",
      "source": [
        "**Lab-5:** Exploring different types of Classification Algorithms"
      ],
      "metadata": {
        "id": "dhtK9PTvY4KK"
      }
    },
    {
      "cell_type": "markdown",
      "source": [
        "**Objective:**\n",
        "\n",
        "1.   To apply various classification algorithms on a real world dataset.\n",
        "\n",
        "\n"
      ],
      "metadata": {
        "id": "nwCBD5E7Y_dI"
      }
    },
    {
      "cell_type": "markdown",
      "source": [
        "## Procedure:"
      ],
      "metadata": {
        "id": "SD_4bCdC7gEh"
      }
    },
    {
      "cell_type": "markdown",
      "source": [
        "*  PANDAS, NUMPHY and Matplotlib.pyplot library are called.\n",
        "*  Dataset are downloaded.\n",
        "*  Dataset are read by using PANDAS library.\n",
        "*  Missing values of the dataset are checked and replaced by mean values of entries of the column.\n",
        "* Features values and target values are selected by using corellation.\n",
        "* One hot encoding are done.\n",
        "* Train set and test set are selected .\n",
        "* Fit transform was done for the train set.\n",
        "* normalized values are done.\n",
        "* Several classification algorithms(logistic regression,KNN, SVM,Random Forest,Decision Tree Classifier,Naive Bayes) were used.\n",
        "* Mean value error, mean squared error,R^2 error was checked on different regressor process. \n",
        "* Final values are compared "
      ],
      "metadata": {
        "id": "ZPr9jqYwCGC4"
      }
    },
    {
      "cell_type": "code",
      "execution_count": null,
      "metadata": {
        "id": "T2U5_4lbYKSi"
      },
      "outputs": [],
      "source": [
        "import warnings\n",
        "warnings.filterwarnings(\"ignore\")"
      ]
    },
    {
      "cell_type": "code",
      "source": [
        "import numpy as np        \n",
        "import pandas as pd     \n",
        "import matplotlib.pyplot as plt  "
      ],
      "metadata": {
        "id": "POoeA43bZWZG"
      },
      "execution_count": null,
      "outputs": []
    },
    {
      "cell_type": "code",
      "source": [
        "!wget -O stroke-data.csv https://www.dropbox.com/s/zgburk3yces5tee/healthcare-dataset-stroke-data.csv?dl=0"
      ],
      "metadata": {
        "id": "4_rJqWW5Zd32"
      },
      "execution_count": null,
      "outputs": []
    },
    {
      "cell_type": "code",
      "source": [
        "dataset = pd.read_csv('stroke-data.csv')\n",
        "dataset"
      ],
      "metadata": {
        "colab": {
          "base_uri": "https://localhost:8080/",
          "height": 424
        },
        "id": "DborRcq2ZeBF",
        "outputId": "8d7bba27-1c83-4bf3-8bb2-c73fc09d85d2"
      },
      "execution_count": null,
      "outputs": [
        {
          "output_type": "execute_result",
          "data": {
            "text/html": [
              "<div>\n",
              "<style scoped>\n",
              "    .dataframe tbody tr th:only-of-type {\n",
              "        vertical-align: middle;\n",
              "    }\n",
              "\n",
              "    .dataframe tbody tr th {\n",
              "        vertical-align: top;\n",
              "    }\n",
              "\n",
              "    .dataframe thead th {\n",
              "        text-align: right;\n",
              "    }\n",
              "</style>\n",
              "<table border=\"1\" class=\"dataframe\">\n",
              "  <thead>\n",
              "    <tr style=\"text-align: right;\">\n",
              "      <th></th>\n",
              "      <th>id</th>\n",
              "      <th>gender</th>\n",
              "      <th>age</th>\n",
              "      <th>hypertension</th>\n",
              "      <th>heart_disease</th>\n",
              "      <th>ever_married</th>\n",
              "      <th>work_type</th>\n",
              "      <th>Residence_type</th>\n",
              "      <th>avg_glucose_level</th>\n",
              "      <th>bmi</th>\n",
              "      <th>smoking_status</th>\n",
              "      <th>stroke</th>\n",
              "    </tr>\n",
              "  </thead>\n",
              "  <tbody>\n",
              "    <tr>\n",
              "      <th>0</th>\n",
              "      <td>9046</td>\n",
              "      <td>Male</td>\n",
              "      <td>67.0</td>\n",
              "      <td>0</td>\n",
              "      <td>1</td>\n",
              "      <td>Yes</td>\n",
              "      <td>Private</td>\n",
              "      <td>Urban</td>\n",
              "      <td>228.69</td>\n",
              "      <td>36.6</td>\n",
              "      <td>formerly smoked</td>\n",
              "      <td>1</td>\n",
              "    </tr>\n",
              "    <tr>\n",
              "      <th>1</th>\n",
              "      <td>51676</td>\n",
              "      <td>Female</td>\n",
              "      <td>61.0</td>\n",
              "      <td>0</td>\n",
              "      <td>0</td>\n",
              "      <td>Yes</td>\n",
              "      <td>Self-employed</td>\n",
              "      <td>Rural</td>\n",
              "      <td>202.21</td>\n",
              "      <td>NaN</td>\n",
              "      <td>never smoked</td>\n",
              "      <td>1</td>\n",
              "    </tr>\n",
              "    <tr>\n",
              "      <th>2</th>\n",
              "      <td>31112</td>\n",
              "      <td>Male</td>\n",
              "      <td>80.0</td>\n",
              "      <td>0</td>\n",
              "      <td>1</td>\n",
              "      <td>Yes</td>\n",
              "      <td>Private</td>\n",
              "      <td>Rural</td>\n",
              "      <td>105.92</td>\n",
              "      <td>32.5</td>\n",
              "      <td>never smoked</td>\n",
              "      <td>1</td>\n",
              "    </tr>\n",
              "    <tr>\n",
              "      <th>3</th>\n",
              "      <td>60182</td>\n",
              "      <td>Female</td>\n",
              "      <td>49.0</td>\n",
              "      <td>0</td>\n",
              "      <td>0</td>\n",
              "      <td>Yes</td>\n",
              "      <td>Private</td>\n",
              "      <td>Urban</td>\n",
              "      <td>171.23</td>\n",
              "      <td>34.4</td>\n",
              "      <td>smokes</td>\n",
              "      <td>1</td>\n",
              "    </tr>\n",
              "    <tr>\n",
              "      <th>4</th>\n",
              "      <td>1665</td>\n",
              "      <td>Female</td>\n",
              "      <td>79.0</td>\n",
              "      <td>1</td>\n",
              "      <td>0</td>\n",
              "      <td>Yes</td>\n",
              "      <td>Self-employed</td>\n",
              "      <td>Rural</td>\n",
              "      <td>174.12</td>\n",
              "      <td>24.0</td>\n",
              "      <td>never smoked</td>\n",
              "      <td>1</td>\n",
              "    </tr>\n",
              "    <tr>\n",
              "      <th>...</th>\n",
              "      <td>...</td>\n",
              "      <td>...</td>\n",
              "      <td>...</td>\n",
              "      <td>...</td>\n",
              "      <td>...</td>\n",
              "      <td>...</td>\n",
              "      <td>...</td>\n",
              "      <td>...</td>\n",
              "      <td>...</td>\n",
              "      <td>...</td>\n",
              "      <td>...</td>\n",
              "      <td>...</td>\n",
              "    </tr>\n",
              "    <tr>\n",
              "      <th>5105</th>\n",
              "      <td>18234</td>\n",
              "      <td>Female</td>\n",
              "      <td>80.0</td>\n",
              "      <td>1</td>\n",
              "      <td>0</td>\n",
              "      <td>Yes</td>\n",
              "      <td>Private</td>\n",
              "      <td>Urban</td>\n",
              "      <td>83.75</td>\n",
              "      <td>NaN</td>\n",
              "      <td>never smoked</td>\n",
              "      <td>0</td>\n",
              "    </tr>\n",
              "    <tr>\n",
              "      <th>5106</th>\n",
              "      <td>44873</td>\n",
              "      <td>Female</td>\n",
              "      <td>81.0</td>\n",
              "      <td>0</td>\n",
              "      <td>0</td>\n",
              "      <td>Yes</td>\n",
              "      <td>Self-employed</td>\n",
              "      <td>Urban</td>\n",
              "      <td>125.20</td>\n",
              "      <td>40.0</td>\n",
              "      <td>never smoked</td>\n",
              "      <td>0</td>\n",
              "    </tr>\n",
              "    <tr>\n",
              "      <th>5107</th>\n",
              "      <td>19723</td>\n",
              "      <td>Female</td>\n",
              "      <td>35.0</td>\n",
              "      <td>0</td>\n",
              "      <td>0</td>\n",
              "      <td>Yes</td>\n",
              "      <td>Self-employed</td>\n",
              "      <td>Rural</td>\n",
              "      <td>82.99</td>\n",
              "      <td>30.6</td>\n",
              "      <td>never smoked</td>\n",
              "      <td>0</td>\n",
              "    </tr>\n",
              "    <tr>\n",
              "      <th>5108</th>\n",
              "      <td>37544</td>\n",
              "      <td>Male</td>\n",
              "      <td>51.0</td>\n",
              "      <td>0</td>\n",
              "      <td>0</td>\n",
              "      <td>Yes</td>\n",
              "      <td>Private</td>\n",
              "      <td>Rural</td>\n",
              "      <td>166.29</td>\n",
              "      <td>25.6</td>\n",
              "      <td>formerly smoked</td>\n",
              "      <td>0</td>\n",
              "    </tr>\n",
              "    <tr>\n",
              "      <th>5109</th>\n",
              "      <td>44679</td>\n",
              "      <td>Female</td>\n",
              "      <td>44.0</td>\n",
              "      <td>0</td>\n",
              "      <td>0</td>\n",
              "      <td>Yes</td>\n",
              "      <td>Govt_job</td>\n",
              "      <td>Urban</td>\n",
              "      <td>85.28</td>\n",
              "      <td>26.2</td>\n",
              "      <td>Unknown</td>\n",
              "      <td>0</td>\n",
              "    </tr>\n",
              "  </tbody>\n",
              "</table>\n",
              "<p>5110 rows × 12 columns</p>\n",
              "</div>"
            ],
            "text/plain": [
              "         id  gender   age  ...   bmi   smoking_status stroke\n",
              "0      9046    Male  67.0  ...  36.6  formerly smoked      1\n",
              "1     51676  Female  61.0  ...   NaN     never smoked      1\n",
              "2     31112    Male  80.0  ...  32.5     never smoked      1\n",
              "3     60182  Female  49.0  ...  34.4           smokes      1\n",
              "4      1665  Female  79.0  ...  24.0     never smoked      1\n",
              "...     ...     ...   ...  ...   ...              ...    ...\n",
              "5105  18234  Female  80.0  ...   NaN     never smoked      0\n",
              "5106  44873  Female  81.0  ...  40.0     never smoked      0\n",
              "5107  19723  Female  35.0  ...  30.6     never smoked      0\n",
              "5108  37544    Male  51.0  ...  25.6  formerly smoked      0\n",
              "5109  44679  Female  44.0  ...  26.2          Unknown      0\n",
              "\n",
              "[5110 rows x 12 columns]"
            ]
          },
          "metadata": {},
          "execution_count": 4
        }
      ]
    },
    {
      "cell_type": "code",
      "source": [
        "dataset.columns"
      ],
      "metadata": {
        "colab": {
          "base_uri": "https://localhost:8080/"
        },
        "id": "UV8uJreNZeJd",
        "outputId": "9aa3b3c9-28a3-4539-b2b1-f9c05be951eb"
      },
      "execution_count": null,
      "outputs": [
        {
          "output_type": "execute_result",
          "data": {
            "text/plain": [
              "Index(['id', 'gender', 'age', 'hypertension', 'heart_disease', 'ever_married',\n",
              "       'work_type', 'Residence_type', 'avg_glucose_level', 'bmi',\n",
              "       'smoking_status', 'stroke'],\n",
              "      dtype='object')"
            ]
          },
          "metadata": {},
          "execution_count": 5
        }
      ]
    },
    {
      "cell_type": "code",
      "source": [
        "# Nan value are checked by using isnull. \n",
        "print(dataset[pd.isnull(dataset.id)])\n",
        "print(dataset[pd.isnull(dataset.gender)])\n",
        "print(dataset[pd.isnull(dataset.age)])\n",
        "print(dataset[pd.isnull(dataset.hypertension)])\n",
        "print(dataset[pd.isnull(dataset.heart_disease)])\n",
        "print(dataset[pd.isnull(dataset.ever_married)])\n",
        "print(dataset[pd.isnull(dataset.work_type)])\n",
        "print(dataset[pd.isnull(dataset.avg_glucose_level)])\n",
        "print(dataset[pd.isnull(dataset.bmi)])\n",
        "print(dataset[pd.isnull(dataset.smoking_status)])\n",
        "print(dataset[pd.isnull(dataset.stroke)])"
      ],
      "metadata": {
        "colab": {
          "base_uri": "https://localhost:8080/"
        },
        "id": "xu6fuYjNZeLS",
        "outputId": "28621629-8769-432b-c21f-829a49d7f21f"
      },
      "execution_count": null,
      "outputs": [
        {
          "output_type": "stream",
          "name": "stdout",
          "text": [
            "Empty DataFrame\n",
            "Columns: [id, gender, age, hypertension, heart_disease, ever_married, work_type, Residence_type, avg_glucose_level, bmi, smoking_status, stroke]\n",
            "Index: []\n",
            "Empty DataFrame\n",
            "Columns: [id, gender, age, hypertension, heart_disease, ever_married, work_type, Residence_type, avg_glucose_level, bmi, smoking_status, stroke]\n",
            "Index: []\n",
            "Empty DataFrame\n",
            "Columns: [id, gender, age, hypertension, heart_disease, ever_married, work_type, Residence_type, avg_glucose_level, bmi, smoking_status, stroke]\n",
            "Index: []\n",
            "Empty DataFrame\n",
            "Columns: [id, gender, age, hypertension, heart_disease, ever_married, work_type, Residence_type, avg_glucose_level, bmi, smoking_status, stroke]\n",
            "Index: []\n",
            "Empty DataFrame\n",
            "Columns: [id, gender, age, hypertension, heart_disease, ever_married, work_type, Residence_type, avg_glucose_level, bmi, smoking_status, stroke]\n",
            "Index: []\n",
            "Empty DataFrame\n",
            "Columns: [id, gender, age, hypertension, heart_disease, ever_married, work_type, Residence_type, avg_glucose_level, bmi, smoking_status, stroke]\n",
            "Index: []\n",
            "Empty DataFrame\n",
            "Columns: [id, gender, age, hypertension, heart_disease, ever_married, work_type, Residence_type, avg_glucose_level, bmi, smoking_status, stroke]\n",
            "Index: []\n",
            "Empty DataFrame\n",
            "Columns: [id, gender, age, hypertension, heart_disease, ever_married, work_type, Residence_type, avg_glucose_level, bmi, smoking_status, stroke]\n",
            "Index: []\n",
            "         id  gender   age  ...  bmi   smoking_status stroke\n",
            "1     51676  Female  61.0  ...  NaN     never smoked      1\n",
            "8     27419  Female  59.0  ...  NaN          Unknown      1\n",
            "13     8213    Male  78.0  ...  NaN          Unknown      1\n",
            "19    25226    Male  57.0  ...  NaN          Unknown      1\n",
            "27    61843    Male  58.0  ...  NaN          Unknown      1\n",
            "...     ...     ...   ...  ...  ...              ...    ...\n",
            "5039  42007    Male  41.0  ...  NaN  formerly smoked      0\n",
            "5048  28788    Male  40.0  ...  NaN           smokes      0\n",
            "5093  32235  Female  45.0  ...  NaN           smokes      0\n",
            "5099   7293    Male  40.0  ...  NaN           smokes      0\n",
            "5105  18234  Female  80.0  ...  NaN     never smoked      0\n",
            "\n",
            "[201 rows x 12 columns]\n",
            "Empty DataFrame\n",
            "Columns: [id, gender, age, hypertension, heart_disease, ever_married, work_type, Residence_type, avg_glucose_level, bmi, smoking_status, stroke]\n",
            "Index: []\n",
            "Empty DataFrame\n",
            "Columns: [id, gender, age, hypertension, heart_disease, ever_married, work_type, Residence_type, avg_glucose_level, bmi, smoking_status, stroke]\n",
            "Index: []\n"
          ]
        }
      ]
    },
    {
      "cell_type": "code",
      "source": [
        "from sklearn.impute import SimpleImputer\n",
        "imputer = SimpleImputer(missing_values=np.nan,strategy = \"mean\")\n",
        "imputer = imputer.fit(dataset[['bmi']])\n",
        "dataset[['bmi']]= imputer.transform(dataset[['bmi']])"
      ],
      "metadata": {
        "id": "0nie2DYjaUSq"
      },
      "execution_count": null,
      "outputs": []
    },
    {
      "cell_type": "code",
      "source": [
        "dataset"
      ],
      "metadata": {
        "colab": {
          "base_uri": "https://localhost:8080/",
          "height": 424
        },
        "id": "ykQV2DuWaUlB",
        "outputId": "e1975e7e-f678-40f9-e835-6ef806f8b763"
      },
      "execution_count": null,
      "outputs": [
        {
          "output_type": "execute_result",
          "data": {
            "text/html": [
              "<div>\n",
              "<style scoped>\n",
              "    .dataframe tbody tr th:only-of-type {\n",
              "        vertical-align: middle;\n",
              "    }\n",
              "\n",
              "    .dataframe tbody tr th {\n",
              "        vertical-align: top;\n",
              "    }\n",
              "\n",
              "    .dataframe thead th {\n",
              "        text-align: right;\n",
              "    }\n",
              "</style>\n",
              "<table border=\"1\" class=\"dataframe\">\n",
              "  <thead>\n",
              "    <tr style=\"text-align: right;\">\n",
              "      <th></th>\n",
              "      <th>id</th>\n",
              "      <th>gender</th>\n",
              "      <th>age</th>\n",
              "      <th>hypertension</th>\n",
              "      <th>heart_disease</th>\n",
              "      <th>ever_married</th>\n",
              "      <th>work_type</th>\n",
              "      <th>Residence_type</th>\n",
              "      <th>avg_glucose_level</th>\n",
              "      <th>bmi</th>\n",
              "      <th>smoking_status</th>\n",
              "      <th>stroke</th>\n",
              "    </tr>\n",
              "  </thead>\n",
              "  <tbody>\n",
              "    <tr>\n",
              "      <th>0</th>\n",
              "      <td>9046</td>\n",
              "      <td>Male</td>\n",
              "      <td>67.0</td>\n",
              "      <td>0</td>\n",
              "      <td>1</td>\n",
              "      <td>Yes</td>\n",
              "      <td>Private</td>\n",
              "      <td>Urban</td>\n",
              "      <td>228.69</td>\n",
              "      <td>36.600000</td>\n",
              "      <td>formerly smoked</td>\n",
              "      <td>1</td>\n",
              "    </tr>\n",
              "    <tr>\n",
              "      <th>1</th>\n",
              "      <td>51676</td>\n",
              "      <td>Female</td>\n",
              "      <td>61.0</td>\n",
              "      <td>0</td>\n",
              "      <td>0</td>\n",
              "      <td>Yes</td>\n",
              "      <td>Self-employed</td>\n",
              "      <td>Rural</td>\n",
              "      <td>202.21</td>\n",
              "      <td>28.893237</td>\n",
              "      <td>never smoked</td>\n",
              "      <td>1</td>\n",
              "    </tr>\n",
              "    <tr>\n",
              "      <th>2</th>\n",
              "      <td>31112</td>\n",
              "      <td>Male</td>\n",
              "      <td>80.0</td>\n",
              "      <td>0</td>\n",
              "      <td>1</td>\n",
              "      <td>Yes</td>\n",
              "      <td>Private</td>\n",
              "      <td>Rural</td>\n",
              "      <td>105.92</td>\n",
              "      <td>32.500000</td>\n",
              "      <td>never smoked</td>\n",
              "      <td>1</td>\n",
              "    </tr>\n",
              "    <tr>\n",
              "      <th>3</th>\n",
              "      <td>60182</td>\n",
              "      <td>Female</td>\n",
              "      <td>49.0</td>\n",
              "      <td>0</td>\n",
              "      <td>0</td>\n",
              "      <td>Yes</td>\n",
              "      <td>Private</td>\n",
              "      <td>Urban</td>\n",
              "      <td>171.23</td>\n",
              "      <td>34.400000</td>\n",
              "      <td>smokes</td>\n",
              "      <td>1</td>\n",
              "    </tr>\n",
              "    <tr>\n",
              "      <th>4</th>\n",
              "      <td>1665</td>\n",
              "      <td>Female</td>\n",
              "      <td>79.0</td>\n",
              "      <td>1</td>\n",
              "      <td>0</td>\n",
              "      <td>Yes</td>\n",
              "      <td>Self-employed</td>\n",
              "      <td>Rural</td>\n",
              "      <td>174.12</td>\n",
              "      <td>24.000000</td>\n",
              "      <td>never smoked</td>\n",
              "      <td>1</td>\n",
              "    </tr>\n",
              "    <tr>\n",
              "      <th>...</th>\n",
              "      <td>...</td>\n",
              "      <td>...</td>\n",
              "      <td>...</td>\n",
              "      <td>...</td>\n",
              "      <td>...</td>\n",
              "      <td>...</td>\n",
              "      <td>...</td>\n",
              "      <td>...</td>\n",
              "      <td>...</td>\n",
              "      <td>...</td>\n",
              "      <td>...</td>\n",
              "      <td>...</td>\n",
              "    </tr>\n",
              "    <tr>\n",
              "      <th>5105</th>\n",
              "      <td>18234</td>\n",
              "      <td>Female</td>\n",
              "      <td>80.0</td>\n",
              "      <td>1</td>\n",
              "      <td>0</td>\n",
              "      <td>Yes</td>\n",
              "      <td>Private</td>\n",
              "      <td>Urban</td>\n",
              "      <td>83.75</td>\n",
              "      <td>28.893237</td>\n",
              "      <td>never smoked</td>\n",
              "      <td>0</td>\n",
              "    </tr>\n",
              "    <tr>\n",
              "      <th>5106</th>\n",
              "      <td>44873</td>\n",
              "      <td>Female</td>\n",
              "      <td>81.0</td>\n",
              "      <td>0</td>\n",
              "      <td>0</td>\n",
              "      <td>Yes</td>\n",
              "      <td>Self-employed</td>\n",
              "      <td>Urban</td>\n",
              "      <td>125.20</td>\n",
              "      <td>40.000000</td>\n",
              "      <td>never smoked</td>\n",
              "      <td>0</td>\n",
              "    </tr>\n",
              "    <tr>\n",
              "      <th>5107</th>\n",
              "      <td>19723</td>\n",
              "      <td>Female</td>\n",
              "      <td>35.0</td>\n",
              "      <td>0</td>\n",
              "      <td>0</td>\n",
              "      <td>Yes</td>\n",
              "      <td>Self-employed</td>\n",
              "      <td>Rural</td>\n",
              "      <td>82.99</td>\n",
              "      <td>30.600000</td>\n",
              "      <td>never smoked</td>\n",
              "      <td>0</td>\n",
              "    </tr>\n",
              "    <tr>\n",
              "      <th>5108</th>\n",
              "      <td>37544</td>\n",
              "      <td>Male</td>\n",
              "      <td>51.0</td>\n",
              "      <td>0</td>\n",
              "      <td>0</td>\n",
              "      <td>Yes</td>\n",
              "      <td>Private</td>\n",
              "      <td>Rural</td>\n",
              "      <td>166.29</td>\n",
              "      <td>25.600000</td>\n",
              "      <td>formerly smoked</td>\n",
              "      <td>0</td>\n",
              "    </tr>\n",
              "    <tr>\n",
              "      <th>5109</th>\n",
              "      <td>44679</td>\n",
              "      <td>Female</td>\n",
              "      <td>44.0</td>\n",
              "      <td>0</td>\n",
              "      <td>0</td>\n",
              "      <td>Yes</td>\n",
              "      <td>Govt_job</td>\n",
              "      <td>Urban</td>\n",
              "      <td>85.28</td>\n",
              "      <td>26.200000</td>\n",
              "      <td>Unknown</td>\n",
              "      <td>0</td>\n",
              "    </tr>\n",
              "  </tbody>\n",
              "</table>\n",
              "<p>5110 rows × 12 columns</p>\n",
              "</div>"
            ],
            "text/plain": [
              "         id  gender   age  ...        bmi   smoking_status stroke\n",
              "0      9046    Male  67.0  ...  36.600000  formerly smoked      1\n",
              "1     51676  Female  61.0  ...  28.893237     never smoked      1\n",
              "2     31112    Male  80.0  ...  32.500000     never smoked      1\n",
              "3     60182  Female  49.0  ...  34.400000           smokes      1\n",
              "4      1665  Female  79.0  ...  24.000000     never smoked      1\n",
              "...     ...     ...   ...  ...        ...              ...    ...\n",
              "5105  18234  Female  80.0  ...  28.893237     never smoked      0\n",
              "5106  44873  Female  81.0  ...  40.000000     never smoked      0\n",
              "5107  19723  Female  35.0  ...  30.600000     never smoked      0\n",
              "5108  37544    Male  51.0  ...  25.600000  formerly smoked      0\n",
              "5109  44679  Female  44.0  ...  26.200000          Unknown      0\n",
              "\n",
              "[5110 rows x 12 columns]"
            ]
          },
          "metadata": {},
          "execution_count": 8
        }
      ]
    },
    {
      "cell_type": "code",
      "source": [
        "# here lebel encoding are done \n",
        "from sklearn.preprocessing import LabelEncoder\n",
        "labelencoder_f = LabelEncoder()\n",
        "dataset['gender'] = labelencoder_f.fit_transform(dataset['gender'])\n",
        "dataset['ever_married'] = labelencoder_f.fit_transform(dataset['ever_married'])\n",
        "dataset['work_type'] = labelencoder_f.fit_transform(dataset['work_type'])\n",
        "dataset['Residence_type'] = labelencoder_f.fit_transform(dataset['Residence_type'])\n",
        "dataset['smoking_status'] = labelencoder_f.fit_transform(dataset['smoking_status'])"
      ],
      "metadata": {
        "id": "p0e9WfXHsaM2"
      },
      "execution_count": null,
      "outputs": []
    },
    {
      "cell_type": "code",
      "source": [
        "dataset"
      ],
      "metadata": {
        "colab": {
          "base_uri": "https://localhost:8080/",
          "height": 424
        },
        "id": "AXMq_hljsaTU",
        "outputId": "572b51f0-37de-490a-fd3e-2e8155ea7188"
      },
      "execution_count": null,
      "outputs": [
        {
          "output_type": "execute_result",
          "data": {
            "text/html": [
              "<div>\n",
              "<style scoped>\n",
              "    .dataframe tbody tr th:only-of-type {\n",
              "        vertical-align: middle;\n",
              "    }\n",
              "\n",
              "    .dataframe tbody tr th {\n",
              "        vertical-align: top;\n",
              "    }\n",
              "\n",
              "    .dataframe thead th {\n",
              "        text-align: right;\n",
              "    }\n",
              "</style>\n",
              "<table border=\"1\" class=\"dataframe\">\n",
              "  <thead>\n",
              "    <tr style=\"text-align: right;\">\n",
              "      <th></th>\n",
              "      <th>id</th>\n",
              "      <th>gender</th>\n",
              "      <th>age</th>\n",
              "      <th>hypertension</th>\n",
              "      <th>heart_disease</th>\n",
              "      <th>ever_married</th>\n",
              "      <th>work_type</th>\n",
              "      <th>Residence_type</th>\n",
              "      <th>avg_glucose_level</th>\n",
              "      <th>bmi</th>\n",
              "      <th>smoking_status</th>\n",
              "      <th>stroke</th>\n",
              "    </tr>\n",
              "  </thead>\n",
              "  <tbody>\n",
              "    <tr>\n",
              "      <th>0</th>\n",
              "      <td>9046</td>\n",
              "      <td>1</td>\n",
              "      <td>67.0</td>\n",
              "      <td>0</td>\n",
              "      <td>1</td>\n",
              "      <td>1</td>\n",
              "      <td>2</td>\n",
              "      <td>1</td>\n",
              "      <td>228.69</td>\n",
              "      <td>36.600000</td>\n",
              "      <td>1</td>\n",
              "      <td>1</td>\n",
              "    </tr>\n",
              "    <tr>\n",
              "      <th>1</th>\n",
              "      <td>51676</td>\n",
              "      <td>0</td>\n",
              "      <td>61.0</td>\n",
              "      <td>0</td>\n",
              "      <td>0</td>\n",
              "      <td>1</td>\n",
              "      <td>3</td>\n",
              "      <td>0</td>\n",
              "      <td>202.21</td>\n",
              "      <td>28.893237</td>\n",
              "      <td>2</td>\n",
              "      <td>1</td>\n",
              "    </tr>\n",
              "    <tr>\n",
              "      <th>2</th>\n",
              "      <td>31112</td>\n",
              "      <td>1</td>\n",
              "      <td>80.0</td>\n",
              "      <td>0</td>\n",
              "      <td>1</td>\n",
              "      <td>1</td>\n",
              "      <td>2</td>\n",
              "      <td>0</td>\n",
              "      <td>105.92</td>\n",
              "      <td>32.500000</td>\n",
              "      <td>2</td>\n",
              "      <td>1</td>\n",
              "    </tr>\n",
              "    <tr>\n",
              "      <th>3</th>\n",
              "      <td>60182</td>\n",
              "      <td>0</td>\n",
              "      <td>49.0</td>\n",
              "      <td>0</td>\n",
              "      <td>0</td>\n",
              "      <td>1</td>\n",
              "      <td>2</td>\n",
              "      <td>1</td>\n",
              "      <td>171.23</td>\n",
              "      <td>34.400000</td>\n",
              "      <td>3</td>\n",
              "      <td>1</td>\n",
              "    </tr>\n",
              "    <tr>\n",
              "      <th>4</th>\n",
              "      <td>1665</td>\n",
              "      <td>0</td>\n",
              "      <td>79.0</td>\n",
              "      <td>1</td>\n",
              "      <td>0</td>\n",
              "      <td>1</td>\n",
              "      <td>3</td>\n",
              "      <td>0</td>\n",
              "      <td>174.12</td>\n",
              "      <td>24.000000</td>\n",
              "      <td>2</td>\n",
              "      <td>1</td>\n",
              "    </tr>\n",
              "    <tr>\n",
              "      <th>...</th>\n",
              "      <td>...</td>\n",
              "      <td>...</td>\n",
              "      <td>...</td>\n",
              "      <td>...</td>\n",
              "      <td>...</td>\n",
              "      <td>...</td>\n",
              "      <td>...</td>\n",
              "      <td>...</td>\n",
              "      <td>...</td>\n",
              "      <td>...</td>\n",
              "      <td>...</td>\n",
              "      <td>...</td>\n",
              "    </tr>\n",
              "    <tr>\n",
              "      <th>5105</th>\n",
              "      <td>18234</td>\n",
              "      <td>0</td>\n",
              "      <td>80.0</td>\n",
              "      <td>1</td>\n",
              "      <td>0</td>\n",
              "      <td>1</td>\n",
              "      <td>2</td>\n",
              "      <td>1</td>\n",
              "      <td>83.75</td>\n",
              "      <td>28.893237</td>\n",
              "      <td>2</td>\n",
              "      <td>0</td>\n",
              "    </tr>\n",
              "    <tr>\n",
              "      <th>5106</th>\n",
              "      <td>44873</td>\n",
              "      <td>0</td>\n",
              "      <td>81.0</td>\n",
              "      <td>0</td>\n",
              "      <td>0</td>\n",
              "      <td>1</td>\n",
              "      <td>3</td>\n",
              "      <td>1</td>\n",
              "      <td>125.20</td>\n",
              "      <td>40.000000</td>\n",
              "      <td>2</td>\n",
              "      <td>0</td>\n",
              "    </tr>\n",
              "    <tr>\n",
              "      <th>5107</th>\n",
              "      <td>19723</td>\n",
              "      <td>0</td>\n",
              "      <td>35.0</td>\n",
              "      <td>0</td>\n",
              "      <td>0</td>\n",
              "      <td>1</td>\n",
              "      <td>3</td>\n",
              "      <td>0</td>\n",
              "      <td>82.99</td>\n",
              "      <td>30.600000</td>\n",
              "      <td>2</td>\n",
              "      <td>0</td>\n",
              "    </tr>\n",
              "    <tr>\n",
              "      <th>5108</th>\n",
              "      <td>37544</td>\n",
              "      <td>1</td>\n",
              "      <td>51.0</td>\n",
              "      <td>0</td>\n",
              "      <td>0</td>\n",
              "      <td>1</td>\n",
              "      <td>2</td>\n",
              "      <td>0</td>\n",
              "      <td>166.29</td>\n",
              "      <td>25.600000</td>\n",
              "      <td>1</td>\n",
              "      <td>0</td>\n",
              "    </tr>\n",
              "    <tr>\n",
              "      <th>5109</th>\n",
              "      <td>44679</td>\n",
              "      <td>0</td>\n",
              "      <td>44.0</td>\n",
              "      <td>0</td>\n",
              "      <td>0</td>\n",
              "      <td>1</td>\n",
              "      <td>0</td>\n",
              "      <td>1</td>\n",
              "      <td>85.28</td>\n",
              "      <td>26.200000</td>\n",
              "      <td>0</td>\n",
              "      <td>0</td>\n",
              "    </tr>\n",
              "  </tbody>\n",
              "</table>\n",
              "<p>5110 rows × 12 columns</p>\n",
              "</div>"
            ],
            "text/plain": [
              "         id  gender   age  ...        bmi  smoking_status  stroke\n",
              "0      9046       1  67.0  ...  36.600000               1       1\n",
              "1     51676       0  61.0  ...  28.893237               2       1\n",
              "2     31112       1  80.0  ...  32.500000               2       1\n",
              "3     60182       0  49.0  ...  34.400000               3       1\n",
              "4      1665       0  79.0  ...  24.000000               2       1\n",
              "...     ...     ...   ...  ...        ...             ...     ...\n",
              "5105  18234       0  80.0  ...  28.893237               2       0\n",
              "5106  44873       0  81.0  ...  40.000000               2       0\n",
              "5107  19723       0  35.0  ...  30.600000               2       0\n",
              "5108  37544       1  51.0  ...  25.600000               1       0\n",
              "5109  44679       0  44.0  ...  26.200000               0       0\n",
              "\n",
              "[5110 rows x 12 columns]"
            ]
          },
          "metadata": {},
          "execution_count": 10
        }
      ]
    },
    {
      "cell_type": "code",
      "source": [
        "feature = dataset[['id', 'gender', 'age', 'hypertension', 'heart_disease', 'ever_married',\n",
        "       'work_type', 'Residence_type', 'avg_glucose_level', 'bmi',\n",
        "       'smoking_status']]\n",
        "target = dataset[['stroke']]"
      ],
      "metadata": {
        "id": "Qyxr5ETBwyxv"
      },
      "execution_count": null,
      "outputs": []
    },
    {
      "cell_type": "code",
      "source": [
        "feature"
      ],
      "metadata": {
        "colab": {
          "base_uri": "https://localhost:8080/",
          "height": 424
        },
        "id": "nE1U-wWdwy_1",
        "outputId": "9f4c0092-b2a8-49d3-be5f-59439117e160"
      },
      "execution_count": null,
      "outputs": [
        {
          "output_type": "execute_result",
          "data": {
            "text/html": [
              "<div>\n",
              "<style scoped>\n",
              "    .dataframe tbody tr th:only-of-type {\n",
              "        vertical-align: middle;\n",
              "    }\n",
              "\n",
              "    .dataframe tbody tr th {\n",
              "        vertical-align: top;\n",
              "    }\n",
              "\n",
              "    .dataframe thead th {\n",
              "        text-align: right;\n",
              "    }\n",
              "</style>\n",
              "<table border=\"1\" class=\"dataframe\">\n",
              "  <thead>\n",
              "    <tr style=\"text-align: right;\">\n",
              "      <th></th>\n",
              "      <th>id</th>\n",
              "      <th>gender</th>\n",
              "      <th>age</th>\n",
              "      <th>hypertension</th>\n",
              "      <th>heart_disease</th>\n",
              "      <th>ever_married</th>\n",
              "      <th>work_type</th>\n",
              "      <th>Residence_type</th>\n",
              "      <th>avg_glucose_level</th>\n",
              "      <th>bmi</th>\n",
              "      <th>smoking_status</th>\n",
              "    </tr>\n",
              "  </thead>\n",
              "  <tbody>\n",
              "    <tr>\n",
              "      <th>0</th>\n",
              "      <td>9046</td>\n",
              "      <td>1</td>\n",
              "      <td>67.0</td>\n",
              "      <td>0</td>\n",
              "      <td>1</td>\n",
              "      <td>1</td>\n",
              "      <td>2</td>\n",
              "      <td>1</td>\n",
              "      <td>228.69</td>\n",
              "      <td>36.600000</td>\n",
              "      <td>1</td>\n",
              "    </tr>\n",
              "    <tr>\n",
              "      <th>1</th>\n",
              "      <td>51676</td>\n",
              "      <td>0</td>\n",
              "      <td>61.0</td>\n",
              "      <td>0</td>\n",
              "      <td>0</td>\n",
              "      <td>1</td>\n",
              "      <td>3</td>\n",
              "      <td>0</td>\n",
              "      <td>202.21</td>\n",
              "      <td>28.893237</td>\n",
              "      <td>2</td>\n",
              "    </tr>\n",
              "    <tr>\n",
              "      <th>2</th>\n",
              "      <td>31112</td>\n",
              "      <td>1</td>\n",
              "      <td>80.0</td>\n",
              "      <td>0</td>\n",
              "      <td>1</td>\n",
              "      <td>1</td>\n",
              "      <td>2</td>\n",
              "      <td>0</td>\n",
              "      <td>105.92</td>\n",
              "      <td>32.500000</td>\n",
              "      <td>2</td>\n",
              "    </tr>\n",
              "    <tr>\n",
              "      <th>3</th>\n",
              "      <td>60182</td>\n",
              "      <td>0</td>\n",
              "      <td>49.0</td>\n",
              "      <td>0</td>\n",
              "      <td>0</td>\n",
              "      <td>1</td>\n",
              "      <td>2</td>\n",
              "      <td>1</td>\n",
              "      <td>171.23</td>\n",
              "      <td>34.400000</td>\n",
              "      <td>3</td>\n",
              "    </tr>\n",
              "    <tr>\n",
              "      <th>4</th>\n",
              "      <td>1665</td>\n",
              "      <td>0</td>\n",
              "      <td>79.0</td>\n",
              "      <td>1</td>\n",
              "      <td>0</td>\n",
              "      <td>1</td>\n",
              "      <td>3</td>\n",
              "      <td>0</td>\n",
              "      <td>174.12</td>\n",
              "      <td>24.000000</td>\n",
              "      <td>2</td>\n",
              "    </tr>\n",
              "    <tr>\n",
              "      <th>...</th>\n",
              "      <td>...</td>\n",
              "      <td>...</td>\n",
              "      <td>...</td>\n",
              "      <td>...</td>\n",
              "      <td>...</td>\n",
              "      <td>...</td>\n",
              "      <td>...</td>\n",
              "      <td>...</td>\n",
              "      <td>...</td>\n",
              "      <td>...</td>\n",
              "      <td>...</td>\n",
              "    </tr>\n",
              "    <tr>\n",
              "      <th>5105</th>\n",
              "      <td>18234</td>\n",
              "      <td>0</td>\n",
              "      <td>80.0</td>\n",
              "      <td>1</td>\n",
              "      <td>0</td>\n",
              "      <td>1</td>\n",
              "      <td>2</td>\n",
              "      <td>1</td>\n",
              "      <td>83.75</td>\n",
              "      <td>28.893237</td>\n",
              "      <td>2</td>\n",
              "    </tr>\n",
              "    <tr>\n",
              "      <th>5106</th>\n",
              "      <td>44873</td>\n",
              "      <td>0</td>\n",
              "      <td>81.0</td>\n",
              "      <td>0</td>\n",
              "      <td>0</td>\n",
              "      <td>1</td>\n",
              "      <td>3</td>\n",
              "      <td>1</td>\n",
              "      <td>125.20</td>\n",
              "      <td>40.000000</td>\n",
              "      <td>2</td>\n",
              "    </tr>\n",
              "    <tr>\n",
              "      <th>5107</th>\n",
              "      <td>19723</td>\n",
              "      <td>0</td>\n",
              "      <td>35.0</td>\n",
              "      <td>0</td>\n",
              "      <td>0</td>\n",
              "      <td>1</td>\n",
              "      <td>3</td>\n",
              "      <td>0</td>\n",
              "      <td>82.99</td>\n",
              "      <td>30.600000</td>\n",
              "      <td>2</td>\n",
              "    </tr>\n",
              "    <tr>\n",
              "      <th>5108</th>\n",
              "      <td>37544</td>\n",
              "      <td>1</td>\n",
              "      <td>51.0</td>\n",
              "      <td>0</td>\n",
              "      <td>0</td>\n",
              "      <td>1</td>\n",
              "      <td>2</td>\n",
              "      <td>0</td>\n",
              "      <td>166.29</td>\n",
              "      <td>25.600000</td>\n",
              "      <td>1</td>\n",
              "    </tr>\n",
              "    <tr>\n",
              "      <th>5109</th>\n",
              "      <td>44679</td>\n",
              "      <td>0</td>\n",
              "      <td>44.0</td>\n",
              "      <td>0</td>\n",
              "      <td>0</td>\n",
              "      <td>1</td>\n",
              "      <td>0</td>\n",
              "      <td>1</td>\n",
              "      <td>85.28</td>\n",
              "      <td>26.200000</td>\n",
              "      <td>0</td>\n",
              "    </tr>\n",
              "  </tbody>\n",
              "</table>\n",
              "<p>5110 rows × 11 columns</p>\n",
              "</div>"
            ],
            "text/plain": [
              "         id  gender   age  ...  avg_glucose_level        bmi  smoking_status\n",
              "0      9046       1  67.0  ...             228.69  36.600000               1\n",
              "1     51676       0  61.0  ...             202.21  28.893237               2\n",
              "2     31112       1  80.0  ...             105.92  32.500000               2\n",
              "3     60182       0  49.0  ...             171.23  34.400000               3\n",
              "4      1665       0  79.0  ...             174.12  24.000000               2\n",
              "...     ...     ...   ...  ...                ...        ...             ...\n",
              "5105  18234       0  80.0  ...              83.75  28.893237               2\n",
              "5106  44873       0  81.0  ...             125.20  40.000000               2\n",
              "5107  19723       0  35.0  ...              82.99  30.600000               2\n",
              "5108  37544       1  51.0  ...             166.29  25.600000               1\n",
              "5109  44679       0  44.0  ...              85.28  26.200000               0\n",
              "\n",
              "[5110 rows x 11 columns]"
            ]
          },
          "metadata": {},
          "execution_count": 12
        }
      ]
    },
    {
      "cell_type": "code",
      "source": [
        "target"
      ],
      "metadata": {
        "colab": {
          "base_uri": "https://localhost:8080/",
          "height": 424
        },
        "id": "0_FVFZOCxFd8",
        "outputId": "2212e801-17d2-4daf-8d9a-47d566f52be7"
      },
      "execution_count": null,
      "outputs": [
        {
          "output_type": "execute_result",
          "data": {
            "text/html": [
              "<div>\n",
              "<style scoped>\n",
              "    .dataframe tbody tr th:only-of-type {\n",
              "        vertical-align: middle;\n",
              "    }\n",
              "\n",
              "    .dataframe tbody tr th {\n",
              "        vertical-align: top;\n",
              "    }\n",
              "\n",
              "    .dataframe thead th {\n",
              "        text-align: right;\n",
              "    }\n",
              "</style>\n",
              "<table border=\"1\" class=\"dataframe\">\n",
              "  <thead>\n",
              "    <tr style=\"text-align: right;\">\n",
              "      <th></th>\n",
              "      <th>stroke</th>\n",
              "    </tr>\n",
              "  </thead>\n",
              "  <tbody>\n",
              "    <tr>\n",
              "      <th>0</th>\n",
              "      <td>1</td>\n",
              "    </tr>\n",
              "    <tr>\n",
              "      <th>1</th>\n",
              "      <td>1</td>\n",
              "    </tr>\n",
              "    <tr>\n",
              "      <th>2</th>\n",
              "      <td>1</td>\n",
              "    </tr>\n",
              "    <tr>\n",
              "      <th>3</th>\n",
              "      <td>1</td>\n",
              "    </tr>\n",
              "    <tr>\n",
              "      <th>4</th>\n",
              "      <td>1</td>\n",
              "    </tr>\n",
              "    <tr>\n",
              "      <th>...</th>\n",
              "      <td>...</td>\n",
              "    </tr>\n",
              "    <tr>\n",
              "      <th>5105</th>\n",
              "      <td>0</td>\n",
              "    </tr>\n",
              "    <tr>\n",
              "      <th>5106</th>\n",
              "      <td>0</td>\n",
              "    </tr>\n",
              "    <tr>\n",
              "      <th>5107</th>\n",
              "      <td>0</td>\n",
              "    </tr>\n",
              "    <tr>\n",
              "      <th>5108</th>\n",
              "      <td>0</td>\n",
              "    </tr>\n",
              "    <tr>\n",
              "      <th>5109</th>\n",
              "      <td>0</td>\n",
              "    </tr>\n",
              "  </tbody>\n",
              "</table>\n",
              "<p>5110 rows × 1 columns</p>\n",
              "</div>"
            ],
            "text/plain": [
              "      stroke\n",
              "0          1\n",
              "1          1\n",
              "2          1\n",
              "3          1\n",
              "4          1\n",
              "...      ...\n",
              "5105       0\n",
              "5106       0\n",
              "5107       0\n",
              "5108       0\n",
              "5109       0\n",
              "\n",
              "[5110 rows x 1 columns]"
            ]
          },
          "metadata": {},
          "execution_count": 13
        }
      ]
    },
    {
      "cell_type": "code",
      "source": [
        "from sklearn.model_selection import train_test_split\n",
        "x_train,x_test,y_train,y_test=train_test_split(feature,target,test_size = 0.2,random_state = 0)\n",
        "print(x_train.shape)\n",
        "print(x_test.shape)"
      ],
      "metadata": {
        "colab": {
          "base_uri": "https://localhost:8080/"
        },
        "id": "8-4vfRqxxX8W",
        "outputId": "a25058db-ce86-4f05-b1e5-8b18d9b25601"
      },
      "execution_count": null,
      "outputs": [
        {
          "output_type": "stream",
          "name": "stdout",
          "text": [
            "(4088, 11)\n",
            "(1022, 11)\n"
          ]
        }
      ]
    },
    {
      "cell_type": "code",
      "source": [
        "x_test"
      ],
      "metadata": {
        "colab": {
          "base_uri": "https://localhost:8080/",
          "height": 424
        },
        "id": "J9zk2XLGxp8c",
        "outputId": "d05df9a0-b3e1-4a96-f65b-83dd46f3863d"
      },
      "execution_count": null,
      "outputs": [
        {
          "output_type": "execute_result",
          "data": {
            "text/html": [
              "<div>\n",
              "<style scoped>\n",
              "    .dataframe tbody tr th:only-of-type {\n",
              "        vertical-align: middle;\n",
              "    }\n",
              "\n",
              "    .dataframe tbody tr th {\n",
              "        vertical-align: top;\n",
              "    }\n",
              "\n",
              "    .dataframe thead th {\n",
              "        text-align: right;\n",
              "    }\n",
              "</style>\n",
              "<table border=\"1\" class=\"dataframe\">\n",
              "  <thead>\n",
              "    <tr style=\"text-align: right;\">\n",
              "      <th></th>\n",
              "      <th>id</th>\n",
              "      <th>gender</th>\n",
              "      <th>age</th>\n",
              "      <th>hypertension</th>\n",
              "      <th>heart_disease</th>\n",
              "      <th>ever_married</th>\n",
              "      <th>work_type</th>\n",
              "      <th>Residence_type</th>\n",
              "      <th>avg_glucose_level</th>\n",
              "      <th>bmi</th>\n",
              "      <th>smoking_status</th>\n",
              "    </tr>\n",
              "  </thead>\n",
              "  <tbody>\n",
              "    <tr>\n",
              "      <th>42</th>\n",
              "      <td>61960</td>\n",
              "      <td>1</td>\n",
              "      <td>82.0</td>\n",
              "      <td>0</td>\n",
              "      <td>1</td>\n",
              "      <td>1</td>\n",
              "      <td>2</td>\n",
              "      <td>1</td>\n",
              "      <td>144.90</td>\n",
              "      <td>26.400000</td>\n",
              "      <td>3</td>\n",
              "    </tr>\n",
              "    <tr>\n",
              "      <th>380</th>\n",
              "      <td>31741</td>\n",
              "      <td>1</td>\n",
              "      <td>4.0</td>\n",
              "      <td>0</td>\n",
              "      <td>0</td>\n",
              "      <td>0</td>\n",
              "      <td>4</td>\n",
              "      <td>0</td>\n",
              "      <td>106.22</td>\n",
              "      <td>16.700000</td>\n",
              "      <td>0</td>\n",
              "    </tr>\n",
              "    <tr>\n",
              "      <th>3524</th>\n",
              "      <td>59451</td>\n",
              "      <td>1</td>\n",
              "      <td>58.0</td>\n",
              "      <td>0</td>\n",
              "      <td>0</td>\n",
              "      <td>1</td>\n",
              "      <td>2</td>\n",
              "      <td>1</td>\n",
              "      <td>79.95</td>\n",
              "      <td>25.900000</td>\n",
              "      <td>2</td>\n",
              "    </tr>\n",
              "    <tr>\n",
              "      <th>352</th>\n",
              "      <td>40670</td>\n",
              "      <td>0</td>\n",
              "      <td>20.0</td>\n",
              "      <td>0</td>\n",
              "      <td>0</td>\n",
              "      <td>0</td>\n",
              "      <td>2</td>\n",
              "      <td>0</td>\n",
              "      <td>96.57</td>\n",
              "      <td>34.100000</td>\n",
              "      <td>2</td>\n",
              "    </tr>\n",
              "    <tr>\n",
              "      <th>4927</th>\n",
              "      <td>25391</td>\n",
              "      <td>0</td>\n",
              "      <td>10.0</td>\n",
              "      <td>0</td>\n",
              "      <td>0</td>\n",
              "      <td>0</td>\n",
              "      <td>4</td>\n",
              "      <td>0</td>\n",
              "      <td>69.84</td>\n",
              "      <td>13.700000</td>\n",
              "      <td>0</td>\n",
              "    </tr>\n",
              "    <tr>\n",
              "      <th>...</th>\n",
              "      <td>...</td>\n",
              "      <td>...</td>\n",
              "      <td>...</td>\n",
              "      <td>...</td>\n",
              "      <td>...</td>\n",
              "      <td>...</td>\n",
              "      <td>...</td>\n",
              "      <td>...</td>\n",
              "      <td>...</td>\n",
              "      <td>...</td>\n",
              "      <td>...</td>\n",
              "    </tr>\n",
              "    <tr>\n",
              "      <th>472</th>\n",
              "      <td>2953</td>\n",
              "      <td>0</td>\n",
              "      <td>43.0</td>\n",
              "      <td>0</td>\n",
              "      <td>0</td>\n",
              "      <td>1</td>\n",
              "      <td>2</td>\n",
              "      <td>0</td>\n",
              "      <td>75.05</td>\n",
              "      <td>22.900000</td>\n",
              "      <td>3</td>\n",
              "    </tr>\n",
              "    <tr>\n",
              "      <th>4446</th>\n",
              "      <td>47799</td>\n",
              "      <td>0</td>\n",
              "      <td>42.0</td>\n",
              "      <td>0</td>\n",
              "      <td>0</td>\n",
              "      <td>1</td>\n",
              "      <td>2</td>\n",
              "      <td>1</td>\n",
              "      <td>191.94</td>\n",
              "      <td>27.900000</td>\n",
              "      <td>2</td>\n",
              "    </tr>\n",
              "    <tr>\n",
              "      <th>660</th>\n",
              "      <td>61013</td>\n",
              "      <td>1</td>\n",
              "      <td>52.0</td>\n",
              "      <td>0</td>\n",
              "      <td>0</td>\n",
              "      <td>0</td>\n",
              "      <td>2</td>\n",
              "      <td>0</td>\n",
              "      <td>69.37</td>\n",
              "      <td>36.200000</td>\n",
              "      <td>0</td>\n",
              "    </tr>\n",
              "    <tr>\n",
              "      <th>57</th>\n",
              "      <td>66400</td>\n",
              "      <td>1</td>\n",
              "      <td>78.0</td>\n",
              "      <td>0</td>\n",
              "      <td>0</td>\n",
              "      <td>1</td>\n",
              "      <td>2</td>\n",
              "      <td>1</td>\n",
              "      <td>237.75</td>\n",
              "      <td>28.893237</td>\n",
              "      <td>1</td>\n",
              "    </tr>\n",
              "    <tr>\n",
              "      <th>2367</th>\n",
              "      <td>9013</td>\n",
              "      <td>0</td>\n",
              "      <td>35.0</td>\n",
              "      <td>0</td>\n",
              "      <td>0</td>\n",
              "      <td>1</td>\n",
              "      <td>2</td>\n",
              "      <td>0</td>\n",
              "      <td>83.27</td>\n",
              "      <td>19.800000</td>\n",
              "      <td>1</td>\n",
              "    </tr>\n",
              "  </tbody>\n",
              "</table>\n",
              "<p>1022 rows × 11 columns</p>\n",
              "</div>"
            ],
            "text/plain": [
              "         id  gender   age  ...  avg_glucose_level        bmi  smoking_status\n",
              "42    61960       1  82.0  ...             144.90  26.400000               3\n",
              "380   31741       1   4.0  ...             106.22  16.700000               0\n",
              "3524  59451       1  58.0  ...              79.95  25.900000               2\n",
              "352   40670       0  20.0  ...              96.57  34.100000               2\n",
              "4927  25391       0  10.0  ...              69.84  13.700000               0\n",
              "...     ...     ...   ...  ...                ...        ...             ...\n",
              "472    2953       0  43.0  ...              75.05  22.900000               3\n",
              "4446  47799       0  42.0  ...             191.94  27.900000               2\n",
              "660   61013       1  52.0  ...              69.37  36.200000               0\n",
              "57    66400       1  78.0  ...             237.75  28.893237               1\n",
              "2367   9013       0  35.0  ...              83.27  19.800000               1\n",
              "\n",
              "[1022 rows x 11 columns]"
            ]
          },
          "metadata": {},
          "execution_count": 15
        }
      ]
    },
    {
      "cell_type": "code",
      "source": [
        "from sklearn.preprocessing import StandardScaler\n",
        "x_sc = StandardScaler()\n",
        "x_train = x_sc.fit_transform(x_train)\n",
        "x_test = x_sc.transform(x_test)"
      ],
      "metadata": {
        "id": "OOx1uUCwxsPt"
      },
      "execution_count": null,
      "outputs": []
    },
    {
      "cell_type": "markdown",
      "source": [
        "**Logistic Regression**"
      ],
      "metadata": {
        "id": "CWLbEvDyzppz"
      }
    },
    {
      "cell_type": "code",
      "source": [
        "from sklearn.linear_model import LogisticRegression\n",
        "lr = LogisticRegression()\n",
        "lr.fit(x_train,y_train)\n",
        "y_pred = lr.predict(x_test)"
      ],
      "metadata": {
        "id": "o6zSxwy2x6Zs"
      },
      "execution_count": null,
      "outputs": []
    },
    {
      "cell_type": "code",
      "source": [
        "from sklearn.metrics import classification_report,confusion_matrix,ConfusionMatrixDisplay,accuracy_score,f1_score,precision_score,recall_score\n",
        "cm = confusion_matrix(y_test,y_pred)\n",
        "disp = ConfusionMatrixDisplay(confusion_matrix=cm)\n",
        "disp.plot()\n",
        "plt.show()"
      ],
      "metadata": {
        "colab": {
          "base_uri": "https://localhost:8080/",
          "height": 279
        },
        "id": "ZD8B3Yf6yBfc",
        "outputId": "22594a59-db00-46d8-c526-6575fb6031ae"
      },
      "execution_count": null,
      "outputs": [
        {
          "output_type": "display_data",
          "data": {
            "image/png": "[encoded data removed]",
            "text/plain": [
              "<Figure size 432x288 with 2 Axes>"
            ]
          },
          "metadata": {
            "needs_background": "light"
          }
        }
      ]
    },
    {
      "cell_type": "code",
      "source": [
        "print(classification_report(y_test,y_pred,target_names = ['No','Yes']))"
      ],
      "metadata": {
        "colab": {
          "base_uri": "https://localhost:8080/"
        },
        "id": "dVhTyn2OyHZE",
        "outputId": "fe3b82ad-a23a-4af8-ab80-b49cd3690dda"
      },
      "execution_count": null,
      "outputs": [
        {
          "output_type": "stream",
          "name": "stdout",
          "text": [
            "              precision    recall  f1-score   support\n",
            "\n",
            "          No       0.95      1.00      0.97       968\n",
            "         Yes       0.33      0.02      0.04        54\n",
            "\n",
            "    accuracy                           0.95      1022\n",
            "   macro avg       0.64      0.51      0.50      1022\n",
            "weighted avg       0.92      0.95      0.92      1022\n",
            "\n"
          ]
        }
      ]
    },
    {
      "cell_type": "markdown",
      "source": [
        "**KNN**"
      ],
      "metadata": {
        "id": "KUD1TVECzmz7"
      }
    },
    {
      "cell_type": "code",
      "source": [
        "from sklearn.neighbors import KNeighborsClassifier\n",
        "knn_classifier = KNeighborsClassifier(n_neighbors=5, metric = 'minkowski', p=2)\n",
        "knn_classifier.fit(x_train,y_train)\n",
        "y_pred = knn_classifier.predict(x_test)\n",
        "cm = confusion_matrix(y_test,y_pred)\n",
        "disp = ConfusionMatrixDisplay(confusion_matrix=cm)\n",
        "disp.plot()\n",
        "plt.show()\n",
        "print(classification_report(y_test,y_pred,target_names = ['No','Yes']))"
      ],
      "metadata": {
        "colab": {
          "base_uri": "https://localhost:8080/",
          "height": 435
        },
        "id": "3mFndAWYyBoe",
        "outputId": "ae4d202a-774e-486a-d80f-985658e54e70"
      },
      "execution_count": null,
      "outputs": [
        {
          "output_type": "display_data",
          "data": {
            "image/png": "[encoded data removed]",
            "text/plain": [
              "<Figure size 432x288 with 2 Axes>"
            ]
          },
          "metadata": {
            "needs_background": "light"
          }
        },
        {
          "output_type": "stream",
          "name": "stdout",
          "text": [
            "              precision    recall  f1-score   support\n",
            "\n",
            "          No       0.95      1.00      0.97       968\n",
            "         Yes       0.00      0.00      0.00        54\n",
            "\n",
            "    accuracy                           0.95      1022\n",
            "   macro avg       0.47      0.50      0.49      1022\n",
            "weighted avg       0.90      0.95      0.92      1022\n",
            "\n"
          ]
        }
      ]
    },
    {
      "cell_type": "markdown",
      "source": [
        "**SVM**"
      ],
      "metadata": {
        "id": "HdvCdrto2iED"
      }
    },
    {
      "cell_type": "code",
      "source": [
        "from sklearn.svm import SVC\n",
        "# Classifier Model\n",
        "classifier = SVC(kernel = 'poly', random_state = 0)\n",
        "classifier.fit(x_train,y_train)\n",
        "# Prediction\n",
        "y_pred = classifier.predict(x_test)\n",
        "cm = confusion_matrix(y_test,y_pred)\n",
        "disp = ConfusionMatrixDisplay(confusion_matrix=cm)\n",
        "disp.plot()\n",
        "plt.show()\n",
        "print(classification_report(y_test,y_pred,target_names = ['No','Yes']))"
      ],
      "metadata": {
        "colab": {
          "base_uri": "https://localhost:8080/",
          "height": 435
        },
        "id": "aYhkeKOsztw4",
        "outputId": "19faa3a6-428e-4cb3-e874-ce1b4e636cec"
      },
      "execution_count": null,
      "outputs": [
        {
          "output_type": "display_data",
          "data": {
            "image/png": "[encoded data removed]",
            "text/plain": [
              "<Figure size 432x288 with 2 Axes>"
            ]
          },
          "metadata": {
            "needs_background": "light"
          }
        },
        {
          "output_type": "stream",
          "name": "stdout",
          "text": [
            "              precision    recall  f1-score   support\n",
            "\n",
            "          No       0.95      1.00      0.97       968\n",
            "         Yes       0.33      0.02      0.04        54\n",
            "\n",
            "    accuracy                           0.95      1022\n",
            "   macro avg       0.64      0.51      0.50      1022\n",
            "weighted avg       0.92      0.95      0.92      1022\n",
            "\n"
          ]
        }
      ]
    },
    {
      "cell_type": "markdown",
      "source": [
        "**Decision Tree**"
      ],
      "metadata": {
        "id": "N2EVfvlk2kbK"
      }
    },
    {
      "cell_type": "code",
      "source": [
        "from sklearn.tree import DecisionTreeClassifier\n",
        "classifier = DecisionTreeClassifier(criterion = 'entropy', random_state = 0)\n",
        "classifier.fit(x_train,y_train)\n",
        "y_pred = classifier.predict(x_test)\n",
        "cm = confusion_matrix(y_test,y_pred)\n",
        "disp = ConfusionMatrixDisplay(confusion_matrix=cm)\n",
        "disp.plot()\n",
        "plt.show()\n",
        "print(classification_report(y_test,y_pred,target_names = ['No','Yes']))\n"
      ],
      "metadata": {
        "colab": {
          "base_uri": "https://localhost:8080/",
          "height": 435
        },
        "id": "ci75FOtX1cLA",
        "outputId": "754f9bbb-9182-4216-8c37-6469407969b5"
      },
      "execution_count": null,
      "outputs": [
        {
          "output_type": "display_data",
          "data": {
            "image/png": "[encoded data removed]",
            "text/plain": [
              "<Figure size 432x288 with 2 Axes>"
            ]
          },
          "metadata": {
            "needs_background": "light"
          }
        },
        {
          "output_type": "stream",
          "name": "stdout",
          "text": [
            "              precision    recall  f1-score   support\n",
            "\n",
            "          No       0.95      0.96      0.96       968\n",
            "         Yes       0.12      0.09      0.11        54\n",
            "\n",
            "    accuracy                           0.92      1022\n",
            "   macro avg       0.54      0.53      0.53      1022\n",
            "weighted avg       0.91      0.92      0.91      1022\n",
            "\n"
          ]
        }
      ]
    },
    {
      "cell_type": "markdown",
      "source": [
        "**Random Forest**"
      ],
      "metadata": {
        "id": "FF3yXEJ42nU7"
      }
    },
    {
      "cell_type": "code",
      "source": [
        "from sklearn.ensemble import RandomForestClassifier\n",
        "classifier = RandomForestClassifier(n_estimators=20, criterion ='entropy', random_state = 0)\n",
        "classifier.fit(x_train,y_train)\n",
        "y_pred = classifier.predict(x_test)\n",
        "cm = confusion_matrix(y_test,y_pred)\n",
        "disp = ConfusionMatrixDisplay(confusion_matrix=cm)\n",
        "disp.plot()\n",
        "plt.show()\n",
        "print(classification_report(y_test,y_pred,target_names = ['No','Yes']))"
      ],
      "metadata": {
        "colab": {
          "base_uri": "https://localhost:8080/",
          "height": 435
        },
        "id": "dMd15Q6W2Sce",
        "outputId": "1daca35b-b0c7-4c31-b551-0c18f6f9d0df"
      },
      "execution_count": null,
      "outputs": [
        {
          "output_type": "display_data",
          "data": {
            "image/png": "[encoded data removed]",
            "text/plain": [
              "<Figure size 432x288 with 2 Axes>"
            ]
          },
          "metadata": {
            "needs_background": "light"
          }
        },
        {
          "output_type": "stream",
          "name": "stdout",
          "text": [
            "              precision    recall  f1-score   support\n",
            "\n",
            "          No       0.95      1.00      0.97       968\n",
            "         Yes       1.00      0.02      0.04        54\n",
            "\n",
            "    accuracy                           0.95      1022\n",
            "   macro avg       0.97      0.51      0.50      1022\n",
            "weighted avg       0.95      0.95      0.92      1022\n",
            "\n"
          ]
        }
      ]
    },
    {
      "cell_type": "markdown",
      "source": [
        "**Naive Bayes**"
      ],
      "metadata": {
        "id": "_qz82Nal2zcq"
      }
    },
    {
      "cell_type": "code",
      "source": [
        "from sklearn.naive_bayes import GaussianNB\n",
        "classifier = GaussianNB()\n",
        "classifier.fit(x_train,y_train)\n",
        "y_pred = classifier.predict(x_test)\n",
        "cm = confusion_matrix(y_test,y_pred)\n",
        "disp = ConfusionMatrixDisplay(confusion_matrix=cm)\n",
        "disp.plot()\n",
        "plt.show()\n",
        "print(classification_report(y_test,y_pred,target_names = ['No','Yes']))"
      ],
      "metadata": {
        "colab": {
          "base_uri": "https://localhost:8080/",
          "height": 435
        },
        "id": "9vU-SFRE2s48",
        "outputId": "192843c3-51f0-4823-cfea-af8c18728a45"
      },
      "execution_count": null,
      "outputs": [
        {
          "output_type": "display_data",
          "data": {
            "image/png": "[encoded data removed]",
            "text/plain": [
              "<Figure size 432x288 with 2 Axes>"
            ]
          },
          "metadata": {
            "needs_background": "light"
          }
        },
        {
          "output_type": "stream",
          "name": "stdout",
          "text": [
            "              precision    recall  f1-score   support\n",
            "\n",
            "          No       0.97      0.91      0.94       968\n",
            "         Yes       0.21      0.43      0.28        54\n",
            "\n",
            "    accuracy                           0.88      1022\n",
            "   macro avg       0.59      0.67      0.61      1022\n",
            "weighted avg       0.93      0.88      0.90      1022\n",
            "\n"
          ]
        }
      ]
    },
    {
      "cell_type": "code",
      "source": [
        "! pip install klib"
      ],
      "metadata": {
        "id": "nJLTwZm14KgW"
      },
      "execution_count": null,
      "outputs": []
    },
    {
      "cell_type": "code",
      "source": [
        "import klib\n",
        "klib.corr_mat(dataset)"
      ],
      "metadata": {
        "colab": {
          "base_uri": "https://localhost:8080/",
          "height": 269
        },
        "id": "YY6xH1eq4NwM",
        "outputId": "f2365d1c-c059-4ecb-b39a-e094b17cf6cd"
      },
      "execution_count": null,
      "outputs": [
        {
          "output_type": "execute_result",
          "data": {
            "text/html": [
              "<style  type=\"text/css\" >\n",
              "#T_927db35a_5e86_11ec_9aa8_0242ac1c0002row0_col0,#T_927db35a_5e86_11ec_9aa8_0242ac1c0002row0_col1,#T_927db35a_5e86_11ec_9aa8_0242ac1c0002row0_col2,#T_927db35a_5e86_11ec_9aa8_0242ac1c0002row0_col4,#T_927db35a_5e86_11ec_9aa8_0242ac1c0002row0_col5,#T_927db35a_5e86_11ec_9aa8_0242ac1c0002row0_col6,#T_927db35a_5e86_11ec_9aa8_0242ac1c0002row1_col0,#T_927db35a_5e86_11ec_9aa8_0242ac1c0002row1_col1,#T_927db35a_5e86_11ec_9aa8_0242ac1c0002row1_col2,#T_927db35a_5e86_11ec_9aa8_0242ac1c0002row1_col3,#T_927db35a_5e86_11ec_9aa8_0242ac1c0002row1_col4,#T_927db35a_5e86_11ec_9aa8_0242ac1c0002row1_col5,#T_927db35a_5e86_11ec_9aa8_0242ac1c0002row1_col6,#T_927db35a_5e86_11ec_9aa8_0242ac1c0002row2_col0,#T_927db35a_5e86_11ec_9aa8_0242ac1c0002row2_col1,#T_927db35a_5e86_11ec_9aa8_0242ac1c0002row2_col2,#T_927db35a_5e86_11ec_9aa8_0242ac1c0002row2_col3,#T_927db35a_5e86_11ec_9aa8_0242ac1c0002row2_col4,#T_927db35a_5e86_11ec_9aa8_0242ac1c0002row2_col5,#T_927db35a_5e86_11ec_9aa8_0242ac1c0002row2_col6,#T_927db35a_5e86_11ec_9aa8_0242ac1c0002row3_col1,#T_927db35a_5e86_11ec_9aa8_0242ac1c0002row3_col2,#T_927db35a_5e86_11ec_9aa8_0242ac1c0002row3_col3,#T_927db35a_5e86_11ec_9aa8_0242ac1c0002row3_col4,#T_927db35a_5e86_11ec_9aa8_0242ac1c0002row3_col5,#T_927db35a_5e86_11ec_9aa8_0242ac1c0002row3_col6,#T_927db35a_5e86_11ec_9aa8_0242ac1c0002row4_col0,#T_927db35a_5e86_11ec_9aa8_0242ac1c0002row4_col1,#T_927db35a_5e86_11ec_9aa8_0242ac1c0002row4_col2,#T_927db35a_5e86_11ec_9aa8_0242ac1c0002row4_col3,#T_927db35a_5e86_11ec_9aa8_0242ac1c0002row4_col4,#T_927db35a_5e86_11ec_9aa8_0242ac1c0002row4_col5,#T_927db35a_5e86_11ec_9aa8_0242ac1c0002row4_col6,#T_927db35a_5e86_11ec_9aa8_0242ac1c0002row5_col0,#T_927db35a_5e86_11ec_9aa8_0242ac1c0002row5_col1,#T_927db35a_5e86_11ec_9aa8_0242ac1c0002row5_col2,#T_927db35a_5e86_11ec_9aa8_0242ac1c0002row5_col3,#T_927db35a_5e86_11ec_9aa8_0242ac1c0002row5_col4,#T_927db35a_5e86_11ec_9aa8_0242ac1c0002row5_col5,#T_927db35a_5e86_11ec_9aa8_0242ac1c0002row5_col6,#T_927db35a_5e86_11ec_9aa8_0242ac1c0002row6_col0,#T_927db35a_5e86_11ec_9aa8_0242ac1c0002row6_col1,#T_927db35a_5e86_11ec_9aa8_0242ac1c0002row6_col2,#T_927db35a_5e86_11ec_9aa8_0242ac1c0002row6_col3,#T_927db35a_5e86_11ec_9aa8_0242ac1c0002row6_col4,#T_927db35a_5e86_11ec_9aa8_0242ac1c0002row6_col5,#T_927db35a_5e86_11ec_9aa8_0242ac1c0002row6_col6{\n",
              "            color:  None;\n",
              "        }#T_927db35a_5e86_11ec_9aa8_0242ac1c0002row0_col3,#T_927db35a_5e86_11ec_9aa8_0242ac1c0002row3_col0{\n",
              "            color:  #FF3344;\n",
              "        }</style><table id=\"T_927db35a_5e86_11ec_9aa8_0242ac1c0002\" class=\"dataframe\"><thead>    <tr>        <th class=\"blank level0\" ></th>        <th class=\"col_heading level0 col0\" >id</th>        <th class=\"col_heading level0 col1\" >age</th>        <th class=\"col_heading level0 col2\" >hypertension</th>        <th class=\"col_heading level0 col3\" >heart_disease</th>        <th class=\"col_heading level0 col4\" >avg_glucose_level</th>        <th class=\"col_heading level0 col5\" >bmi</th>        <th class=\"col_heading level0 col6\" >stroke</th>    </tr></thead><tbody>\n",
              "                <tr>\n",
              "                        <th id=\"T_927db35a_5e86_11ec_9aa8_0242ac1c0002level0_row0\" class=\"row_heading level0 row0\" >id</th>\n",
              "                        <td id=\"T_927db35a_5e86_11ec_9aa8_0242ac1c0002row0_col0\" class=\"data row0 col0\" >1.00</td>\n",
              "                        <td id=\"T_927db35a_5e86_11ec_9aa8_0242ac1c0002row0_col1\" class=\"data row0 col1\" >0.00</td>\n",
              "                        <td id=\"T_927db35a_5e86_11ec_9aa8_0242ac1c0002row0_col2\" class=\"data row0 col2\" >0.00</td>\n",
              "                        <td id=\"T_927db35a_5e86_11ec_9aa8_0242ac1c0002row0_col3\" class=\"data row0 col3\" >-0.00</td>\n",
              "                        <td id=\"T_927db35a_5e86_11ec_9aa8_0242ac1c0002row0_col4\" class=\"data row0 col4\" >0.00</td>\n",
              "                        <td id=\"T_927db35a_5e86_11ec_9aa8_0242ac1c0002row0_col5\" class=\"data row0 col5\" >0.00</td>\n",
              "                        <td id=\"T_927db35a_5e86_11ec_9aa8_0242ac1c0002row0_col6\" class=\"data row0 col6\" >0.01</td>\n",
              "            </tr>\n",
              "            <tr>\n",
              "                        <th id=\"T_927db35a_5e86_11ec_9aa8_0242ac1c0002level0_row1\" class=\"row_heading level0 row1\" >age</th>\n",
              "                        <td id=\"T_927db35a_5e86_11ec_9aa8_0242ac1c0002row1_col0\" class=\"data row1 col0\" >0.00</td>\n",
              "                        <td id=\"T_927db35a_5e86_11ec_9aa8_0242ac1c0002row1_col1\" class=\"data row1 col1\" >1.00</td>\n",
              "                        <td id=\"T_927db35a_5e86_11ec_9aa8_0242ac1c0002row1_col2\" class=\"data row1 col2\" >0.28</td>\n",
              "                        <td id=\"T_927db35a_5e86_11ec_9aa8_0242ac1c0002row1_col3\" class=\"data row1 col3\" >0.26</td>\n",
              "                        <td id=\"T_927db35a_5e86_11ec_9aa8_0242ac1c0002row1_col4\" class=\"data row1 col4\" >0.24</td>\n",
              "                        <td id=\"T_927db35a_5e86_11ec_9aa8_0242ac1c0002row1_col5\" class=\"data row1 col5\" >0.33</td>\n",
              "                        <td id=\"T_927db35a_5e86_11ec_9aa8_0242ac1c0002row1_col6\" class=\"data row1 col6\" >0.25</td>\n",
              "            </tr>\n",
              "            <tr>\n",
              "                        <th id=\"T_927db35a_5e86_11ec_9aa8_0242ac1c0002level0_row2\" class=\"row_heading level0 row2\" >hypertension</th>\n",
              "                        <td id=\"T_927db35a_5e86_11ec_9aa8_0242ac1c0002row2_col0\" class=\"data row2 col0\" >0.00</td>\n",
              "                        <td id=\"T_927db35a_5e86_11ec_9aa8_0242ac1c0002row2_col1\" class=\"data row2 col1\" >0.28</td>\n",
              "                        <td id=\"T_927db35a_5e86_11ec_9aa8_0242ac1c0002row2_col2\" class=\"data row2 col2\" >1.00</td>\n",
              "                        <td id=\"T_927db35a_5e86_11ec_9aa8_0242ac1c0002row2_col3\" class=\"data row2 col3\" >0.11</td>\n",
              "                        <td id=\"T_927db35a_5e86_11ec_9aa8_0242ac1c0002row2_col4\" class=\"data row2 col4\" >0.17</td>\n",
              "                        <td id=\"T_927db35a_5e86_11ec_9aa8_0242ac1c0002row2_col5\" class=\"data row2 col5\" >0.16</td>\n",
              "                        <td id=\"T_927db35a_5e86_11ec_9aa8_0242ac1c0002row2_col6\" class=\"data row2 col6\" >0.13</td>\n",
              "            </tr>\n",
              "            <tr>\n",
              "                        <th id=\"T_927db35a_5e86_11ec_9aa8_0242ac1c0002level0_row3\" class=\"row_heading level0 row3\" >heart_disease</th>\n",
              "                        <td id=\"T_927db35a_5e86_11ec_9aa8_0242ac1c0002row3_col0\" class=\"data row3 col0\" >-0.00</td>\n",
              "                        <td id=\"T_927db35a_5e86_11ec_9aa8_0242ac1c0002row3_col1\" class=\"data row3 col1\" >0.26</td>\n",
              "                        <td id=\"T_927db35a_5e86_11ec_9aa8_0242ac1c0002row3_col2\" class=\"data row3 col2\" >0.11</td>\n",
              "                        <td id=\"T_927db35a_5e86_11ec_9aa8_0242ac1c0002row3_col3\" class=\"data row3 col3\" >1.00</td>\n",
              "                        <td id=\"T_927db35a_5e86_11ec_9aa8_0242ac1c0002row3_col4\" class=\"data row3 col4\" >0.16</td>\n",
              "                        <td id=\"T_927db35a_5e86_11ec_9aa8_0242ac1c0002row3_col5\" class=\"data row3 col5\" >0.04</td>\n",
              "                        <td id=\"T_927db35a_5e86_11ec_9aa8_0242ac1c0002row3_col6\" class=\"data row3 col6\" >0.13</td>\n",
              "            </tr>\n",
              "            <tr>\n",
              "                        <th id=\"T_927db35a_5e86_11ec_9aa8_0242ac1c0002level0_row4\" class=\"row_heading level0 row4\" >avg_glucose_level</th>\n",
              "                        <td id=\"T_927db35a_5e86_11ec_9aa8_0242ac1c0002row4_col0\" class=\"data row4 col0\" >0.00</td>\n",
              "                        <td id=\"T_927db35a_5e86_11ec_9aa8_0242ac1c0002row4_col1\" class=\"data row4 col1\" >0.24</td>\n",
              "                        <td id=\"T_927db35a_5e86_11ec_9aa8_0242ac1c0002row4_col2\" class=\"data row4 col2\" >0.17</td>\n",
              "                        <td id=\"T_927db35a_5e86_11ec_9aa8_0242ac1c0002row4_col3\" class=\"data row4 col3\" >0.16</td>\n",
              "                        <td id=\"T_927db35a_5e86_11ec_9aa8_0242ac1c0002row4_col4\" class=\"data row4 col4\" >1.00</td>\n",
              "                        <td id=\"T_927db35a_5e86_11ec_9aa8_0242ac1c0002row4_col5\" class=\"data row4 col5\" >0.17</td>\n",
              "                        <td id=\"T_927db35a_5e86_11ec_9aa8_0242ac1c0002row4_col6\" class=\"data row4 col6\" >0.13</td>\n",
              "            </tr>\n",
              "            <tr>\n",
              "                        <th id=\"T_927db35a_5e86_11ec_9aa8_0242ac1c0002level0_row5\" class=\"row_heading level0 row5\" >bmi</th>\n",
              "                        <td id=\"T_927db35a_5e86_11ec_9aa8_0242ac1c0002row5_col0\" class=\"data row5 col0\" >0.00</td>\n",
              "                        <td id=\"T_927db35a_5e86_11ec_9aa8_0242ac1c0002row5_col1\" class=\"data row5 col1\" >0.33</td>\n",
              "                        <td id=\"T_927db35a_5e86_11ec_9aa8_0242ac1c0002row5_col2\" class=\"data row5 col2\" >0.16</td>\n",
              "                        <td id=\"T_927db35a_5e86_11ec_9aa8_0242ac1c0002row5_col3\" class=\"data row5 col3\" >0.04</td>\n",
              "                        <td id=\"T_927db35a_5e86_11ec_9aa8_0242ac1c0002row5_col4\" class=\"data row5 col4\" >0.17</td>\n",
              "                        <td id=\"T_927db35a_5e86_11ec_9aa8_0242ac1c0002row5_col5\" class=\"data row5 col5\" >1.00</td>\n",
              "                        <td id=\"T_927db35a_5e86_11ec_9aa8_0242ac1c0002row5_col6\" class=\"data row5 col6\" >0.04</td>\n",
              "            </tr>\n",
              "            <tr>\n",
              "                        <th id=\"T_927db35a_5e86_11ec_9aa8_0242ac1c0002level0_row6\" class=\"row_heading level0 row6\" >stroke</th>\n",
              "                        <td id=\"T_927db35a_5e86_11ec_9aa8_0242ac1c0002row6_col0\" class=\"data row6 col0\" >0.01</td>\n",
              "                        <td id=\"T_927db35a_5e86_11ec_9aa8_0242ac1c0002row6_col1\" class=\"data row6 col1\" >0.25</td>\n",
              "                        <td id=\"T_927db35a_5e86_11ec_9aa8_0242ac1c0002row6_col2\" class=\"data row6 col2\" >0.13</td>\n",
              "                        <td id=\"T_927db35a_5e86_11ec_9aa8_0242ac1c0002row6_col3\" class=\"data row6 col3\" >0.13</td>\n",
              "                        <td id=\"T_927db35a_5e86_11ec_9aa8_0242ac1c0002row6_col4\" class=\"data row6 col4\" >0.13</td>\n",
              "                        <td id=\"T_927db35a_5e86_11ec_9aa8_0242ac1c0002row6_col5\" class=\"data row6 col5\" >0.04</td>\n",
              "                        <td id=\"T_927db35a_5e86_11ec_9aa8_0242ac1c0002row6_col6\" class=\"data row6 col6\" >1.00</td>\n",
              "            </tr>\n",
              "    </tbody></table>"
            ],
            "text/plain": [
              "<pandas.io.formats.style.Styler at 0x7f2f5a6309d0>"
            ]
          },
          "metadata": {},
          "execution_count": 15
        }
      ]
    },
    {
      "cell_type": "code",
      "source": [
        "klib.corr_plot(dataset)"
      ],
      "metadata": {
        "colab": {
          "base_uri": "https://localhost:8080/",
          "height": 709
        },
        "id": "yK5aaLaU4Uqc",
        "outputId": "731f78c6-245a-4729-93d0-ab174a63a1c4"
      },
      "execution_count": null,
      "outputs": [
        {
          "output_type": "execute_result",
          "data": {
            "text/plain": [
              "<matplotlib.axes._subplots.AxesSubplot at 0x7f2f6415e890>"
            ]
          },
          "metadata": {},
          "execution_count": 12
        },
        {
          "output_type": "display_data",
          "data": {
            "image/png": "[encoded data removed]",
            "text/plain": [
              "<Figure size 864x720 with 2 Axes>"
            ]
          },
          "metadata": {
            "needs_background": "light"
          }
        }
      ]
    },
    {
      "cell_type": "markdown",
      "source": [
        "### Final Results:"
      ],
      "metadata": {
        "id": "f8VVEDCqOl_f"
      }
    },
    {
      "cell_type": "markdown",
      "source": [
        "**Logistic Regression**\n",
        "\n",
        "\n",
        "\n",
        "```\n",
        "               precision    recall  f1-score   support\n",
        "\n",
        "          No       0.95      1.00      0.97       968\n",
        "         Yes       0.33      0.02      0.04        54\n",
        "\n",
        "    accuracy                           0.95      1022\n",
        "\n",
        "   macro avg       0.64      0.51      0.50      1022\n",
        "\n",
        "weighted avg       0.92      0.95      0.92      1022\n",
        "```\n",
        "\n",
        "\n",
        "\n",
        "**KNN**\n",
        "\n",
        "```\n",
        "  precision    recall  f1-score   support\n",
        "\n",
        "          No       0.95      1.00      0.97       968\n",
        "         Yes       0.00      0.00      0.00        54\n",
        "\n",
        "    accuracy                           0.95      1022\n",
        "\n",
        " macro avg       0.47      0.50      0.49      1022\n",
        "weighted avg       0.90      0.95      0.92      1022\n",
        "\n",
        "```\n",
        "**SVM**\n",
        "\n",
        "```\n",
        "       precision    recall  f1-score   support\n",
        "\n",
        "          No       0.95      1.00      0.97       968\n",
        "         Yes       0.33      0.02      0.04        54\n",
        "\n",
        "    accuracy                           0.95      1022\n",
        "   macro avg       0.64      0.51      0.50      1022\n",
        "weighted avg       0.92      0.95      0.92      1022\n",
        "\n",
        "```\n",
        "**Decision Tree**\n",
        "\n",
        "```\n",
        "              precision    recall  f1-score   support\n",
        "\n",
        "          No       0.95      0.96      0.96       968\n",
        "         Yes       0.12      0.09      0.11        54\n",
        "\n",
        "    accuracy                           0.92      1022\n",
        "   macro avg       0.54      0.53      0.53      1022\n",
        "weighted avg       0.91      0.92      0.91      1022\n",
        "\n",
        "```\n",
        "**Random Forest**\n",
        "\n",
        "\n",
        "```\n",
        "              precision    recall  f1-score   support\n",
        "\n",
        "          No       0.95      1.00      0.97       968\n",
        "         Yes       1.00      0.02      0.04        54\n",
        "\n",
        "    accuracy                           0.95      1022\n",
        "   macro avg       0.97      0.51      0.50      1022\n",
        "weighted avg       0.95      0.95      0.92      1022\n",
        "```\n",
        "\n",
        "**Naive Bayes**\n",
        "\n",
        "\n",
        "```\n",
        " precision    recall  f1-score   support\n",
        "\n",
        "          No       0.97      0.91      0.94       968\n",
        "         Yes       0.21      0.43      0.28        54\n",
        "\n",
        "    accuracy                           0.88      1022\n",
        "   macro avg       0.59      0.67      0.61      1022\n",
        "weighted avg       0.93      0.88      0.90      1022\n",
        "```\n",
        "\n",
        "\n",
        "\n",
        "\n"
      ],
      "metadata": {
        "id": "gfhMtmheOwPZ"
      }
    },
    {
      "cell_type": "markdown",
      "source": [
        "### Conclussion:\n",
        "\n",
        "\n",
        "This is a classification problem. Different type of performance parameters are applied for this problem and checked the performance.Large scale values are converted to standarized value for reducing complexity of model.  It is seen that different algorithm had been efficient for different purposes. "
      ],
      "metadata": {
        "id": "PDhdM32fLwG5"
      }
    }
  ]
}